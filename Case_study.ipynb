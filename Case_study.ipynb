{
 "cells": [
  {
   "cell_type": "markdown",
   "id": "b446d005",
   "metadata": {},
   "source": [
    "### Real world Case study\n",
    "\n",
    "Scenario: A botanist is trying to figure out if both types of iris blooms have different sepal length variability. The variation in sepal lengths across plants can reveal variations in genetic diversity, environmental adaption, or measurement stability.\n",
    "\n",
    "### Dateset \n",
    "Downloaded and used the iris.csv dataset. it contains sepal length, sepal width, petal length, petal width, and species for 150 flowers.\n",
    "\n",
    "### Hypothesis\n",
    "Null hypothesis (H₀): Variances of sepal length in Setosa and Versicolor are equal.\n",
    "\n",
    "Alternative hypothesis (Hₐ): Variances of sepal length in Setosa and Versicolor are not equal.\n",
    "\n",
    "### Method\n",
    "The F-test was applied by computing the ratio of the larger variance to the smaller variance.\n",
    "A two-tailed p-value was calculated to determine whether the observed variance ratio could occur by chance or under normal circumstance(null hypothesis)"
   ]
  },
  {
   "cell_type": "markdown",
   "id": "48bc6661",
   "metadata": {},
   "source": [
    "#### Choosen Test for me by Professor:\n",
    "#### F-Test Implementation"
   ]
  },
  {
   "cell_type": "code",
   "execution_count": null,
   "id": "c9bf96de",
   "metadata": {},
   "outputs": [
    {
     "name": "stdout",
     "output_type": "stream",
     "text": [
      "Var(setosa) = 0.1242, Var(versicolor) = 0.2664\n",
      "Variance Ratio (F) = 2.1443, p-value (two-tailed) = 0.0087\n",
      "Reject H0: variances differ significantly between Setosa and Versicolor.\n"
     ]
    }
   ],
   "source": [
    "# Importing Dependencies\n",
    "import pandas as pd\n",
    "import numpy as np\n",
    "from scipy.stats import f\n",
    "\n",
    "# Load Iris dataset from raw CSV URL\n",
    "url = \"https://gist.githubusercontent.com/curran/a08a1080b88344b0c8a7/raw/0e7a9b0a5d22642a06d3d5b9bcbad9890c8ee534/iris.csv\"\n",
    "df = pd.read_csv(url)\n",
    "\n",
    "\n",
    "# Select the groups\n",
    "g1 = df[df['species'] == \"setosa\"]['sepal_length']\n",
    "g2 = df[df['species'] == \"versicolor\"]['sepal_length']\n",
    "\n",
    "# Compute sample variances\n",
    "var1 = np.var(g1, ddof=1)\n",
    "var2 = np.var(g2, ddof=1)\n",
    "\n",
    "print(f\"Var(setosa) = {var1:.4f}, Var(versicolor) = {var2:.4f}\")\n",
    "\n",
    "# Compute F-statistic (ratio of larger variance / smaller variance)\n",
    "F_stat = var2 / var1 if var2 > var1 else var1 / var2\n",
    "df1 = len(g2) - 1 if var2 > var1 else len(g1) - 1\n",
    "df2 = len(g1) - 1 if var2 > var1 else len(g2) - 1\n",
    "\n",
    "# Two-tailed p-value\n",
    "p_value = 2 * min(f.cdf(F_stat, df1, df2), 1 - f.cdf(F_stat, df1, df2))\n",
    "print(f\"Variance Ratio (F) = {F_stat:.4f}, p-value (two-tailed) = {p_value:.4f}\")\n",
    "\n",
    "# Decision\n",
    "alpha = 0.05\n",
    "if p_value < alpha:\n",
    "    print(\"Reject H0: variances differ significantly between Setosa and Versicolor.\")\n",
    "else:\n",
    "    print(\"Fail to reject H0: no evidence of different variances between the two species.\")\n"
   ]
  },
  {
   "cell_type": "markdown",
   "id": "ab28cff9",
   "metadata": {},
   "source": [
    "#### 💭 Reflection \n",
    "\n",
    "---\n",
    "The F-test result of 2.1443 means that Versicolor has around 2 time the variability in sepal length compard to Setosa.\n",
    "This shows meaningful differences in spread between species.\n",
    "\n",
    "The result of the p_value is less than 0.05 which gives us enough evidence to reject the null hypothesis and conclude that there is significant variances in sepal length between Setosa and Versicolor.\n",
    "\n",
    "\n",
    "---\n",
    "\n",
    "<br>\n",
    "<br>\n",
    "<br>\n",
    "\n"
   ]
  }
 ],
 "metadata": {
  "kernelspec": {
   "display_name": ".venv",
   "language": "python",
   "name": "python3"
  },
  "language_info": {
   "codemirror_mode": {
    "name": "ipython",
    "version": 3
   },
   "file_extension": ".py",
   "mimetype": "text/x-python",
   "name": "python",
   "nbconvert_exporter": "python",
   "pygments_lexer": "ipython3",
   "version": "3.13.7"
  }
 },
 "nbformat": 4,
 "nbformat_minor": 5
}
