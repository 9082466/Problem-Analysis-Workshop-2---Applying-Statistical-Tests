{
 "cells": [
  {
   "cell_type": "code",
   "execution_count": null,
   "id": "c9bf96de",
   "metadata": {},
   "outputs": [
    {
     "name": "stdout",
     "output_type": "stream",
     "text": [
      "   sepal_length  sepal_width  petal_length  petal_width species\n",
      "0           5.1          3.5           1.4          0.2  setosa\n",
      "1           4.9          3.0           1.4          0.2  setosa\n",
      "2           4.7          3.2           1.3          0.2  setosa\n",
      "3           4.6          3.1           1.5          0.2  setosa\n",
      "4           5.0          3.6           1.4          0.2  setosa\n",
      "       sepal_length  sepal_width  petal_length  petal_width\n",
      "count    150.000000   150.000000    150.000000   150.000000\n",
      "mean       5.843333     3.054000      3.758667     1.198667\n",
      "std        0.828066     0.433594      1.764420     0.763161\n",
      "min        4.300000     2.000000      1.000000     0.100000\n",
      "25%        5.100000     2.800000      1.600000     0.300000\n",
      "50%        5.800000     3.000000      4.350000     1.300000\n",
      "75%        6.400000     3.300000      5.100000     1.800000\n",
      "max        7.900000     4.400000      6.900000     2.500000\n",
      "Var(setosa) = 0.1242, Var(versicolor) = 0.2664\n",
      "Variance Ratio (F) = 2.1443, p-value (two-tailed) = 0.0087\n",
      "Reject H0: variances differ significantly between these two species.\n",
      "ANOVA F = 119.2645, p = 0.0000\n",
      "Reject H0: at least one species mean (sepal_length) differs.\n"
     ]
    },
    {
     "data": {
      "image/png": "[encoded data removed]",
      "text/plain": [
       "<Figure size 700x500 with 1 Axes>"
      ]
     },
     "metadata": {},
     "output_type": "display_data"
    }
   ],
   "source": [
    "# Option A: Use Iris CSV from the web (example uses a raw gist URL)\n",
    "import pandas as pd\n",
    "import numpy as np\n",
    "from scipy.stats import f, f_oneway\n",
    "import matplotlib.pyplot as plt\n",
    "import seaborn as sns\n",
    "\n",
    "# --- 1) Load dataset (raw gist URL)\n",
    "url = \"https://gist.githubusercontent.com/curran/a08a1080b88344b0c8a7/raw/0e7a9b0a5d22642a06d3d5b9bcbad9890c8ee534/iris.csv\"\n",
    "# Read directly from URL into DataFrame\n",
    "df = pd.read_csv(url)\n",
    "# saving a local copy\n",
    "df.to_csv(\"./data/iris_plant.csv\", index=False)\n",
    "\n",
    "# Explore the dataset\n",
    "print(df.head())\n",
    "\n",
    "# Summary statistics\n",
    "print(df.describe())\n",
    "\n",
    "# Use variable: sepal_length; group by species\n",
    "outcome = \"sepal_length\"\n",
    "group_col = \"species\"\n",
    "\n",
    "# --- 2) Two-group variance-ratio (example: setosa vs versicolor)\n",
    "g1 = df[df[group_col] == \"setosa\"][outcome]\n",
    "g2 = df[df[group_col] == \"versicolor\"][outcome]\n",
    "\n",
    "# Sample variances\n",
    "var1 = np.var(g1, ddof=1)\n",
    "var2 = np.var(g2, ddof=1)\n",
    "print(f\"Var(setosa) = {var1:.4f}, Var(versicolor) = {var2:.4f}\")\n",
    "\n",
    "# Make F = larger/smaller\n",
    "F_stat = var1 / var2 if var1 > var2 else var2 / var1\n",
    "df1 = len(g1) - 1\n",
    "df2 = len(g2) - 1\n",
    "\n",
    "# two-sided p-value using F-distribution\n",
    "p_two = 2 * min(f.cdf(F_stat, df1, df2), 1 - f.cdf(F_stat, df1, df2))\n",
    "print(f\"Variance Ratio (F) = {F_stat:.4f}, p-value (two-tailed) = {p_two:.4f}\")\n",
    "\n",
    "# Interpret at alpha = 0.05\n",
    "alpha = 0.05\n",
    "if p_two < alpha:\n",
    "    print(\"Reject H0: variances differ significantly between these two species.\")\n",
    "else:\n",
    "    print(\"Fail to reject H0: no evidence of different variances (at alpha=0.05).\")\n",
    "\n",
    "# --- 3) ANOVA across all three species (one-way)\n",
    "groups = [grp[outcome].values for name, grp in df.groupby(group_col)]\n",
    "F_anova, p_anova = f_oneway(*groups)\n",
    "print(f\"ANOVA F = {F_anova:.4f}, p = {p_anova:.4f}\")\n",
    "if p_anova < alpha:\n",
    "    print(\"Reject H0: at least one species mean (sepal_length) differs.\")\n",
    "else:\n",
    "    print(\"Fail to reject H0: no evidence of differing means across species.\")\n",
    "\n",
    "# --- 4) Quick boxplot to visualize spread\n",
    "plt.figure(figsize=(7,5))\n",
    "sns.boxplot(x=group_col, y=outcome, data=df)\n",
    "plt.title(\"Sepal length by species\")\n",
    "plt.show()\n"
   ]
  },
  {
   "cell_type": "markdown",
   "id": "ab28cff9",
   "metadata": {},
   "source": [
    "#### 💭 Reflection\n",
    "\n",
    "---\n",
    "\n",
    "\n",
    "\n",
    "---\n",
    "\n",
    "<br>\n",
    "<br>\n",
    "<br>\n",
    "\n"
   ]
  }
 ],
 "metadata": {
  "kernelspec": {
   "display_name": ".venv",
   "language": "python",
   "name": "python3"
  },
  "language_info": {
   "codemirror_mode": {
    "name": "ipython",
    "version": 3
   },
   "file_extension": ".py",
   "mimetype": "text/x-python",
   "name": "python",
   "nbconvert_exporter": "python",
   "pygments_lexer": "ipython3",
   "version": "3.13.7"
  }
 },
 "nbformat": 4,
 "nbformat_minor": 5
}
